{
 "cells": [
  {
   "cell_type": "code",
   "execution_count": 12,
   "metadata": {},
   "outputs": [],
   "source": [
    "import numpy as np\n",
    "import pandas as pd"
   ]
  },
  {
   "cell_type": "code",
   "execution_count": 13,
   "metadata": {},
   "outputs": [],
   "source": [
    "pd.options.display.max_columns = 50"
   ]
  },
  {
   "cell_type": "code",
   "execution_count": null,
   "metadata": {},
   "outputs": [],
   "source": [
    "data = pd.read_csv('C:/Users/USER/Downloads/Libros/employee_data.csv')\n",
    "data.head()"
   ]
  },
  {
   "cell_type": "code",
   "execution_count": null,
   "metadata": {},
   "outputs": [],
   "source": [
    "data['DepartmentType'] = data['DepartmentType'].str.strip()\n",
    "data['Title'] = data['Title'].str.strip()"
   ]
  },
  {
   "cell_type": "code",
   "execution_count": null,
   "metadata": {},
   "outputs": [],
   "source": [
    "# Elinamos TerminationDescription\n",
    "data.drop('TerminationDescription', axis=1, inplace=True)\n",
    "data.drop('TerminationType', axis=1, inplace=True)\n",
    "data.drop('Division', axis=1, inplace=True)\n",
    "data.drop('LocationCode', axis=1, inplace=True)\n",
    "data.drop('State', axis=1, inplace=True)\n",
    "data.drop('Supervisor', axis=1, inplace=True)\n",
    "data.drop('EmployeeStatus', axis=1, inplace=True)\n",
    "data.drop('StartDate', axis=1, inplace=True)\n",
    "data.drop('ExitDate', axis=1, inplace=True)\n",
    "data.drop('BusinessUnit', axis=1, inplace=True)\n",
    "data.drop('EmployeeClassificationType', axis=1, inplace=True)"
   ]
  },
  {
   "cell_type": "code",
   "execution_count": null,
   "metadata": {},
   "outputs": [
    {
     "data": {
      "text/html": [
       "<div>\n",
       "<style scoped>\n",
       "    .dataframe tbody tr th:only-of-type {\n",
       "        vertical-align: middle;\n",
       "    }\n",
       "\n",
       "    .dataframe tbody tr th {\n",
       "        vertical-align: top;\n",
       "    }\n",
       "\n",
       "    .dataframe thead th {\n",
       "        text-align: right;\n",
       "    }\n",
       "</style>\n",
       "<table border=\"1\" class=\"dataframe\">\n",
       "  <thead>\n",
       "    <tr style=\"text-align: right;\">\n",
       "      <th></th>\n",
       "      <th>EmpID</th>\n",
       "      <th>FirstName</th>\n",
       "      <th>LastName</th>\n",
       "      <th>Title</th>\n",
       "      <th>ADEmail</th>\n",
       "      <th>EmployeeType</th>\n",
       "      <th>PayZone</th>\n",
       "      <th>DepartmentType</th>\n",
       "      <th>DOB</th>\n",
       "      <th>JobFunctionDescription</th>\n",
       "      <th>GenderCode</th>\n",
       "      <th>RaceDesc</th>\n",
       "      <th>MaritalDesc</th>\n",
       "      <th>Performance Score</th>\n",
       "      <th>Current Employee Rating</th>\n",
       "    </tr>\n",
       "  </thead>\n",
       "  <tbody>\n",
       "    <tr>\n",
       "      <th>0</th>\n",
       "      <td>3427</td>\n",
       "      <td>Uriah</td>\n",
       "      <td>Bridges</td>\n",
       "      <td>Production Technician I</td>\n",
       "      <td>uriah.bridges@bilearner.com</td>\n",
       "      <td>Contract</td>\n",
       "      <td>Zone C</td>\n",
       "      <td>Production</td>\n",
       "      <td>07-10-1969</td>\n",
       "      <td>Accounting</td>\n",
       "      <td>Female</td>\n",
       "      <td>White</td>\n",
       "      <td>Widowed</td>\n",
       "      <td>Fully Meets</td>\n",
       "      <td>4</td>\n",
       "    </tr>\n",
       "    <tr>\n",
       "      <th>1</th>\n",
       "      <td>3428</td>\n",
       "      <td>Paula</td>\n",
       "      <td>Small</td>\n",
       "      <td>Production Technician I</td>\n",
       "      <td>paula.small@bilearner.com</td>\n",
       "      <td>Contract</td>\n",
       "      <td>Zone A</td>\n",
       "      <td>Production</td>\n",
       "      <td>30-08-1965</td>\n",
       "      <td>Labor</td>\n",
       "      <td>Male</td>\n",
       "      <td>Hispanic</td>\n",
       "      <td>Widowed</td>\n",
       "      <td>Fully Meets</td>\n",
       "      <td>3</td>\n",
       "    </tr>\n",
       "    <tr>\n",
       "      <th>2</th>\n",
       "      <td>3429</td>\n",
       "      <td>Edward</td>\n",
       "      <td>Buck</td>\n",
       "      <td>Area Sales Manager</td>\n",
       "      <td>edward.buck@bilearner.com</td>\n",
       "      <td>Full-Time</td>\n",
       "      <td>Zone B</td>\n",
       "      <td>Sales</td>\n",
       "      <td>06-10-1991</td>\n",
       "      <td>Assistant</td>\n",
       "      <td>Male</td>\n",
       "      <td>Hispanic</td>\n",
       "      <td>Widowed</td>\n",
       "      <td>Fully Meets</td>\n",
       "      <td>4</td>\n",
       "    </tr>\n",
       "    <tr>\n",
       "      <th>3</th>\n",
       "      <td>3430</td>\n",
       "      <td>Michael</td>\n",
       "      <td>Riordan</td>\n",
       "      <td>Area Sales Manager</td>\n",
       "      <td>michael.riordan@bilearner.com</td>\n",
       "      <td>Contract</td>\n",
       "      <td>Zone A</td>\n",
       "      <td>Sales</td>\n",
       "      <td>04-04-1998</td>\n",
       "      <td>Clerk</td>\n",
       "      <td>Male</td>\n",
       "      <td>Other</td>\n",
       "      <td>Single</td>\n",
       "      <td>Fully Meets</td>\n",
       "      <td>2</td>\n",
       "    </tr>\n",
       "    <tr>\n",
       "      <th>4</th>\n",
       "      <td>3431</td>\n",
       "      <td>Jasmine</td>\n",
       "      <td>Onque</td>\n",
       "      <td>Area Sales Manager</td>\n",
       "      <td>jasmine.onque@bilearner.com</td>\n",
       "      <td>Contract</td>\n",
       "      <td>Zone A</td>\n",
       "      <td>Sales</td>\n",
       "      <td>29-08-1969</td>\n",
       "      <td>Laborer</td>\n",
       "      <td>Female</td>\n",
       "      <td>Other</td>\n",
       "      <td>Married</td>\n",
       "      <td>Fully Meets</td>\n",
       "      <td>3</td>\n",
       "    </tr>\n",
       "  </tbody>\n",
       "</table>\n",
       "</div>"
      ],
      "text/plain": [
       "   EmpID FirstName LastName                    Title  \\\n",
       "0   3427     Uriah  Bridges  Production Technician I   \n",
       "1   3428     Paula    Small  Production Technician I   \n",
       "2   3429    Edward     Buck       Area Sales Manager   \n",
       "3   3430   Michael  Riordan       Area Sales Manager   \n",
       "4   3431   Jasmine    Onque       Area Sales Manager   \n",
       "\n",
       "                         ADEmail EmployeeType PayZone DepartmentType  \\\n",
       "0    uriah.bridges@bilearner.com     Contract  Zone C     Production   \n",
       "1      paula.small@bilearner.com     Contract  Zone A     Production   \n",
       "2      edward.buck@bilearner.com    Full-Time  Zone B          Sales   \n",
       "3  michael.riordan@bilearner.com     Contract  Zone A          Sales   \n",
       "4    jasmine.onque@bilearner.com     Contract  Zone A          Sales   \n",
       "\n",
       "          DOB JobFunctionDescription GenderCode  RaceDesc MaritalDesc  \\\n",
       "0  07-10-1969             Accounting     Female     White     Widowed   \n",
       "1  30-08-1965                  Labor       Male  Hispanic     Widowed   \n",
       "2  06-10-1991              Assistant       Male  Hispanic     Widowed   \n",
       "3  04-04-1998                  Clerk       Male     Other      Single   \n",
       "4  29-08-1969                Laborer     Female     Other     Married   \n",
       "\n",
       "  Performance Score  Current Employee Rating  \n",
       "0       Fully Meets                        4  \n",
       "1       Fully Meets                        3  \n",
       "2       Fully Meets                        4  \n",
       "3       Fully Meets                        2  \n",
       "4       Fully Meets                        3  "
      ]
     },
     "execution_count": 34,
     "metadata": {},
     "output_type": "execute_result"
    }
   ],
   "source": [
    "data.head()"
   ]
  },
  {
   "cell_type": "code",
   "execution_count": null,
   "metadata": {},
   "outputs": [],
   "source": [
    "import pandas as pd\n",
    "import numpy as np\n",
    "\n",
    "# Definir los rangos salariales según el título\n",
    "salary_ranges = {\n",
    "    'low': ['Laborer', 'Clerk', 'Driver', 'Helper', 'Attendant', 'Warehouse', 'Flagger'],\n",
    "    'mid': ['Technician', 'Engineer', 'Supervisor', 'Coordinator', 'Operator', 'Foreman', 'Mechanic', 'Electrician', 'Field Technician', 'Inspector', 'Estimator'],\n",
    "    'high': ['Manager', 'Director', 'Ceo', 'Vp', 'Cfo', 'Cio', 'Executive', 'Program Manager', 'Project Manager', 'General Manager']\n",
    "}\n",
    "\n",
    "# Asignar sueldo base según el título\n",
    "def assign_base_salary(title):\n",
    "    if title in salary_ranges['low']:\n",
    "        return int(np.random.uniform(1000, 3000))  # Sueldo base para nivel bajo\n",
    "    elif title in salary_ranges['mid']:\n",
    "        return int(np.random.uniform(3000, 7000))  # Sueldo base para nivel medio\n",
    "    elif title in salary_ranges['high']:\n",
    "        return int(np.random.uniform(7000, 10000))  # Sueldo base para nivel alto\n",
    "    else:\n",
    "        return int(np.random.uniform(3000, 6000))  # Sueldo por defecto\n",
    "\n",
    "# Aplicar multiplicadores según Current Employee Rating\n",
    "def adjust_by_rating(salary, rating):\n",
    "    if rating == 5:\n",
    "        return int(salary * 1.3)\n",
    "    elif rating == 4:\n",
    "        return int(salary * 1.2)\n",
    "    elif rating == 3:\n",
    "        return salary\n",
    "    elif rating == 2:\n",
    "        return int(salary * 0.9)\n",
    "    elif rating == 1:\n",
    "        return int(salary * 0.8)\n",
    "    else:\n",
    "        return salary\n",
    "\n",
    "# Ajustar según el Performance Score\n",
    "def adjust_by_performance(salary, performance):\n",
    "    if performance == 'Exceeds':\n",
    "        return int(salary * 1.1)\n",
    "    elif performance == 'Fully Meets':\n",
    "        return salary\n",
    "    elif performance == 'Needs Improvement':\n",
    "        return int(salary * 0.9)\n",
    "    elif performance == 'PIP':\n",
    "        return int(salary * 0.8)\n",
    "    else:\n",
    "        return salary\n",
    "\n",
    "# Crear la columna de sueldo mensual como entero\n",
    "data['monthly_salary'] = data.apply(lambda row: adjust_by_performance(\n",
    "                                        adjust_by_rating(assign_base_salary(row['Title']), row['Current Employee Rating']),\n",
    "                                        row['Performance Score']),\n",
    "                                    axis=1)"
   ]
  },
  {
   "cell_type": "code",
   "execution_count": null,
   "metadata": {},
   "outputs": [],
   "source": [
    "# Crea una columna de contraseña despues de la columna ADEmail\n",
    "data.insert(data.columns.get_loc('ADEmail') + 1, 'Password', data['FirstName'].str.lower() + data['LastName'].str.lower() + data['EmpID'].astype(str))"
   ]
  },
  {
   "cell_type": "code",
   "execution_count": null,
   "metadata": {},
   "outputs": [],
   "source": [
    "import pandas as pd\n",
    "\n",
    "# Crear DataFrame original (dataset)\n",
    "# Aquí deberías tener cargado tu dataset en la variable `data`\n",
    "\n",
    "# Definir nuevos empleados\n",
    "new_employee_1 = {\n",
    "    'EmpID': 1000,\n",
    "    'FirstName': 'Josue',\n",
    "    'LastName': 'Velo',\n",
    "    'Title': 'Data Analyst',\n",
    "    'ADEmail': 'josue.velo@utec.edu.pe',\n",
    "    'Password': 'Ut3c7241',\n",
    "    'EmployeeType': 'Contract',\n",
    "    'PayZone': 'Zone A',\n",
    "    'DepartmentType': 'IT/IS',\n",
    "    'DOB': '22-11-2004',\n",
    "    'JobFunctionDescription': 'Supervisor',\n",
    "    'GenderCode': 'Male',\n",
    "    'RaceDesc': 'Hispanic',\n",
    "    'MaritalDesc': 'Single',\n",
    "    'Performance Score': 'Exceeds',\n",
    "    'Current Employee Rating': 5,\t\n",
    "    'monthly_salary': 5700\n",
    "}\n",
    "\n",
    "new_employee_2 = {\n",
    "    'EmpID': 999,\n",
    "    'FirstName': 'Luis',\n",
    "    'LastName': 'Olivera',\n",
    "    'Title': 'Data Architect',\n",
    "    'ADEmail': '76917241@tacna.coar.edu.pe',\n",
    "    'Password': 'ERESelMEJOR17',\n",
    "    'EmployeeType': 'Part-Time',\n",
    "    'PayZone': 'Zone C',\n",
    "    'DepartmentType': 'IT/IS',\n",
    "    'DOB': '15-10-1995',\n",
    "    'JobFunctionDescription': 'Engineer',\n",
    "    'GenderCode': 'Male',\n",
    "    'RaceDesc': 'White',\n",
    "    'MaritalDesc': 'Married',\n",
    "    'Performance Score': 'Needs Improvement',\n",
    "    'Current Employee Rating': 3,\t\n",
    "    'monthly_salary': 3568\n",
    "}\n",
    "\n",
    "# Crear DataFrame para nuevos empleados\n",
    "new_employees_df = pd.DataFrame([new_employee_1, new_employee_2])\n",
    "\n",
    "# Insertar nuevos empleados al dataset\n",
    "data = pd.concat([data, new_employees_df], ignore_index=True)"
   ]
  },
  {
   "cell_type": "code",
   "execution_count": null,
   "metadata": {},
   "outputs": [],
   "source": [
    "# Renombrar columnas con sugerencias para 'Performance Score' y 'Current Employee Rating'\n",
    "data.rename(columns={\n",
    "    'ADEmail': 'Email'  \n",
    "}, inplace=True)"
   ]
  },
  {
   "cell_type": "code",
   "execution_count": null,
   "metadata": {},
   "outputs": [
    {
     "data": {
      "text/html": [
       "<div>\n",
       "<style scoped>\n",
       "    .dataframe tbody tr th:only-of-type {\n",
       "        vertical-align: middle;\n",
       "    }\n",
       "\n",
       "    .dataframe tbody tr th {\n",
       "        vertical-align: top;\n",
       "    }\n",
       "\n",
       "    .dataframe thead th {\n",
       "        text-align: right;\n",
       "    }\n",
       "</style>\n",
       "<table border=\"1\" class=\"dataframe\">\n",
       "  <thead>\n",
       "    <tr style=\"text-align: right;\">\n",
       "      <th></th>\n",
       "      <th>EmpID</th>\n",
       "      <th>FirstName</th>\n",
       "      <th>LastName</th>\n",
       "      <th>Title</th>\n",
       "      <th>Email</th>\n",
       "      <th>Password</th>\n",
       "      <th>EmployeeType</th>\n",
       "      <th>PayZone</th>\n",
       "      <th>DepartmentType</th>\n",
       "      <th>DOB</th>\n",
       "      <th>JobFunctionDescription</th>\n",
       "      <th>GenderCode</th>\n",
       "      <th>RaceDesc</th>\n",
       "      <th>MaritalDesc</th>\n",
       "      <th>Performance Score</th>\n",
       "      <th>Current Employee Rating</th>\n",
       "      <th>monthly_salary</th>\n",
       "    </tr>\n",
       "  </thead>\n",
       "  <tbody>\n",
       "    <tr>\n",
       "      <th>2997</th>\n",
       "      <td>3424</td>\n",
       "      <td>Annabel</td>\n",
       "      <td>Wilkins</td>\n",
       "      <td>Production Technician I</td>\n",
       "      <td>annabel.wilkins@bilearner.com</td>\n",
       "      <td>annabelwilkins3424</td>\n",
       "      <td>Contract</td>\n",
       "      <td>Zone B</td>\n",
       "      <td>Production</td>\n",
       "      <td>27-01-1997</td>\n",
       "      <td>Laborer</td>\n",
       "      <td>Male</td>\n",
       "      <td>White</td>\n",
       "      <td>Single</td>\n",
       "      <td>Fully Meets</td>\n",
       "      <td>2</td>\n",
       "      <td>3020</td>\n",
       "    </tr>\n",
       "    <tr>\n",
       "      <th>2998</th>\n",
       "      <td>3425</td>\n",
       "      <td>Kendra</td>\n",
       "      <td>Braun</td>\n",
       "      <td>Production Technician I</td>\n",
       "      <td>kendra.braun@bilearner.com</td>\n",
       "      <td>kendrabraun3425</td>\n",
       "      <td>Contract</td>\n",
       "      <td>Zone B</td>\n",
       "      <td>Production</td>\n",
       "      <td>28-05-1954</td>\n",
       "      <td>Foreman</td>\n",
       "      <td>Female</td>\n",
       "      <td>Hispanic</td>\n",
       "      <td>Divorced</td>\n",
       "      <td>Fully Meets</td>\n",
       "      <td>2</td>\n",
       "      <td>3829</td>\n",
       "    </tr>\n",
       "    <tr>\n",
       "      <th>2999</th>\n",
       "      <td>3426</td>\n",
       "      <td>Chace</td>\n",
       "      <td>Kerr</td>\n",
       "      <td>Production Technician I</td>\n",
       "      <td>chace.kerr@bilearner.com</td>\n",
       "      <td>chacekerr3426</td>\n",
       "      <td>Full-Time</td>\n",
       "      <td>Zone B</td>\n",
       "      <td>Production</td>\n",
       "      <td>11-09-1990</td>\n",
       "      <td>Warehouse Technician</td>\n",
       "      <td>Female</td>\n",
       "      <td>White</td>\n",
       "      <td>Married</td>\n",
       "      <td>Fully Meets</td>\n",
       "      <td>2</td>\n",
       "      <td>4671</td>\n",
       "    </tr>\n",
       "    <tr>\n",
       "      <th>3000</th>\n",
       "      <td>1000</td>\n",
       "      <td>Josue</td>\n",
       "      <td>Velo</td>\n",
       "      <td>Data Analyst</td>\n",
       "      <td>josue.velo@utec.edu.pe</td>\n",
       "      <td>Ut3c7241</td>\n",
       "      <td>Contract</td>\n",
       "      <td>Zone A</td>\n",
       "      <td>IT/IS</td>\n",
       "      <td>22-11-2004</td>\n",
       "      <td>Supervisor</td>\n",
       "      <td>Male</td>\n",
       "      <td>Hispanic</td>\n",
       "      <td>Single</td>\n",
       "      <td>Exceeds</td>\n",
       "      <td>5</td>\n",
       "      <td>5700</td>\n",
       "    </tr>\n",
       "    <tr>\n",
       "      <th>3001</th>\n",
       "      <td>999</td>\n",
       "      <td>Luis</td>\n",
       "      <td>Olivera</td>\n",
       "      <td>Data Architect</td>\n",
       "      <td>76917241@tacna.coar.edu.pe</td>\n",
       "      <td>ERESelMEJOR17</td>\n",
       "      <td>Part-Time</td>\n",
       "      <td>Zone C</td>\n",
       "      <td>IT/IS</td>\n",
       "      <td>15-10-1995</td>\n",
       "      <td>Engineer</td>\n",
       "      <td>Male</td>\n",
       "      <td>White</td>\n",
       "      <td>Married</td>\n",
       "      <td>Needs Improvement</td>\n",
       "      <td>3</td>\n",
       "      <td>3568</td>\n",
       "    </tr>\n",
       "  </tbody>\n",
       "</table>\n",
       "</div>"
      ],
      "text/plain": [
       "      EmpID FirstName LastName                    Title  \\\n",
       "2997   3424   Annabel  Wilkins  Production Technician I   \n",
       "2998   3425    Kendra    Braun  Production Technician I   \n",
       "2999   3426     Chace     Kerr  Production Technician I   \n",
       "3000   1000     Josue     Velo             Data Analyst   \n",
       "3001    999      Luis  Olivera           Data Architect   \n",
       "\n",
       "                              Email            Password EmployeeType PayZone  \\\n",
       "2997  annabel.wilkins@bilearner.com  annabelwilkins3424     Contract  Zone B   \n",
       "2998     kendra.braun@bilearner.com     kendrabraun3425     Contract  Zone B   \n",
       "2999       chace.kerr@bilearner.com       chacekerr3426    Full-Time  Zone B   \n",
       "3000         josue.velo@utec.edu.pe            Ut3c7241     Contract  Zone A   \n",
       "3001     76917241@tacna.coar.edu.pe       ERESelMEJOR17    Part-Time  Zone C   \n",
       "\n",
       "     DepartmentType         DOB JobFunctionDescription GenderCode  RaceDesc  \\\n",
       "2997     Production  27-01-1997                Laborer       Male     White   \n",
       "2998     Production  28-05-1954                Foreman     Female  Hispanic   \n",
       "2999     Production  11-09-1990   Warehouse Technician     Female     White   \n",
       "3000          IT/IS  22-11-2004             Supervisor       Male  Hispanic   \n",
       "3001          IT/IS  15-10-1995               Engineer       Male     White   \n",
       "\n",
       "     MaritalDesc  Performance Score  Current Employee Rating  monthly_salary  \n",
       "2997      Single        Fully Meets                        2            3020  \n",
       "2998    Divorced        Fully Meets                        2            3829  \n",
       "2999     Married        Fully Meets                        2            4671  \n",
       "3000      Single            Exceeds                        5            5700  \n",
       "3001     Married  Needs Improvement                        3            3568  "
      ]
     },
     "execution_count": 39,
     "metadata": {},
     "output_type": "execute_result"
    }
   ],
   "source": [
    "data.tail()"
   ]
  },
  {
   "cell_type": "code",
   "execution_count": null,
   "metadata": {},
   "outputs": [
    {
     "name": "stdout",
     "output_type": "stream",
     "text": [
      "<class 'pandas.core.frame.DataFrame'>\n",
      "RangeIndex: 3002 entries, 0 to 3001\n",
      "Data columns (total 17 columns):\n",
      " #   Column                   Non-Null Count  Dtype \n",
      "---  ------                   --------------  ----- \n",
      " 0   EmpID                    3002 non-null   int64 \n",
      " 1   FirstName                3002 non-null   object\n",
      " 2   LastName                 3002 non-null   object\n",
      " 3   Title                    3002 non-null   object\n",
      " 4   Email                    3002 non-null   object\n",
      " 5   Password                 3002 non-null   object\n",
      " 6   EmployeeType             3002 non-null   object\n",
      " 7   PayZone                  3002 non-null   object\n",
      " 8   DepartmentType           3002 non-null   object\n",
      " 9   DOB                      3002 non-null   object\n",
      " 10  JobFunctionDescription   3002 non-null   object\n",
      " 11  GenderCode               3002 non-null   object\n",
      " 12  RaceDesc                 3002 non-null   object\n",
      " 13  MaritalDesc              3002 non-null   object\n",
      " 14  Performance Score        3002 non-null   object\n",
      " 15  Current Employee Rating  3002 non-null   int64 \n",
      " 16  monthly_salary           3002 non-null   int64 \n",
      "dtypes: int64(3), object(14)\n",
      "memory usage: 398.8+ KB\n"
     ]
    }
   ],
   "source": [
    "data.info()"
   ]
  },
  {
   "cell_type": "code",
   "execution_count": 2,
   "metadata": {},
   "outputs": [
    {
     "data": {
      "text/html": [
       "<div>\n",
       "<style scoped>\n",
       "    .dataframe tbody tr th:only-of-type {\n",
       "        vertical-align: middle;\n",
       "    }\n",
       "\n",
       "    .dataframe tbody tr th {\n",
       "        vertical-align: top;\n",
       "    }\n",
       "\n",
       "    .dataframe thead th {\n",
       "        text-align: right;\n",
       "    }\n",
       "</style>\n",
       "<table border=\"1\" class=\"dataframe\">\n",
       "  <thead>\n",
       "    <tr style=\"text-align: right;\">\n",
       "      <th></th>\n",
       "      <th>EmpID</th>\n",
       "      <th>FirstName</th>\n",
       "      <th>LastName</th>\n",
       "      <th>Title</th>\n",
       "      <th>Email</th>\n",
       "      <th>Password</th>\n",
       "      <th>EmployeeType</th>\n",
       "      <th>PayZone</th>\n",
       "      <th>DepartmentType</th>\n",
       "      <th>DOB</th>\n",
       "      <th>JobFunctionDescription</th>\n",
       "      <th>GenderCode</th>\n",
       "      <th>RaceDesc</th>\n",
       "      <th>MaritalDesc</th>\n",
       "      <th>Performance Score</th>\n",
       "      <th>Current Employee Rating</th>\n",
       "      <th>monthly_salary</th>\n",
       "    </tr>\n",
       "  </thead>\n",
       "  <tbody>\n",
       "    <tr>\n",
       "      <th>0</th>\n",
       "      <td>3427</td>\n",
       "      <td>Uriah</td>\n",
       "      <td>Bridges</td>\n",
       "      <td>Production Technician I</td>\n",
       "      <td>uriah.bridges@bilearner.com</td>\n",
       "      <td>uriahbridges3427</td>\n",
       "      <td>Contract</td>\n",
       "      <td>Zone C</td>\n",
       "      <td>Production</td>\n",
       "      <td>07-10-1969</td>\n",
       "      <td>Accounting</td>\n",
       "      <td>Female</td>\n",
       "      <td>White</td>\n",
       "      <td>Widowed</td>\n",
       "      <td>Fully Meets</td>\n",
       "      <td>4</td>\n",
       "      <td>6877</td>\n",
       "    </tr>\n",
       "    <tr>\n",
       "      <th>1</th>\n",
       "      <td>3428</td>\n",
       "      <td>Paula</td>\n",
       "      <td>Small</td>\n",
       "      <td>Production Technician I</td>\n",
       "      <td>paula.small@bilearner.com</td>\n",
       "      <td>paulasmall3428</td>\n",
       "      <td>Contract</td>\n",
       "      <td>Zone A</td>\n",
       "      <td>Production</td>\n",
       "      <td>30-08-1965</td>\n",
       "      <td>Labor</td>\n",
       "      <td>Male</td>\n",
       "      <td>Hispanic</td>\n",
       "      <td>Widowed</td>\n",
       "      <td>Fully Meets</td>\n",
       "      <td>3</td>\n",
       "      <td>5383</td>\n",
       "    </tr>\n",
       "    <tr>\n",
       "      <th>2</th>\n",
       "      <td>3429</td>\n",
       "      <td>Edward</td>\n",
       "      <td>Buck</td>\n",
       "      <td>Area Sales Manager</td>\n",
       "      <td>edward.buck@bilearner.com</td>\n",
       "      <td>edwardbuck3429</td>\n",
       "      <td>Full-Time</td>\n",
       "      <td>Zone B</td>\n",
       "      <td>Sales</td>\n",
       "      <td>06-10-1991</td>\n",
       "      <td>Assistant</td>\n",
       "      <td>Male</td>\n",
       "      <td>Hispanic</td>\n",
       "      <td>Widowed</td>\n",
       "      <td>Fully Meets</td>\n",
       "      <td>4</td>\n",
       "      <td>4722</td>\n",
       "    </tr>\n",
       "    <tr>\n",
       "      <th>3</th>\n",
       "      <td>3430</td>\n",
       "      <td>Michael</td>\n",
       "      <td>Riordan</td>\n",
       "      <td>Area Sales Manager</td>\n",
       "      <td>michael.riordan@bilearner.com</td>\n",
       "      <td>michaelriordan3430</td>\n",
       "      <td>Contract</td>\n",
       "      <td>Zone A</td>\n",
       "      <td>Sales</td>\n",
       "      <td>04-04-1998</td>\n",
       "      <td>Clerk</td>\n",
       "      <td>Male</td>\n",
       "      <td>Other</td>\n",
       "      <td>Single</td>\n",
       "      <td>Fully Meets</td>\n",
       "      <td>2</td>\n",
       "      <td>4779</td>\n",
       "    </tr>\n",
       "    <tr>\n",
       "      <th>4</th>\n",
       "      <td>3431</td>\n",
       "      <td>Jasmine</td>\n",
       "      <td>Onque</td>\n",
       "      <td>Area Sales Manager</td>\n",
       "      <td>jasmine.onque@bilearner.com</td>\n",
       "      <td>jasmineonque3431</td>\n",
       "      <td>Contract</td>\n",
       "      <td>Zone A</td>\n",
       "      <td>Sales</td>\n",
       "      <td>29-08-1969</td>\n",
       "      <td>Laborer</td>\n",
       "      <td>Female</td>\n",
       "      <td>Other</td>\n",
       "      <td>Married</td>\n",
       "      <td>Fully Meets</td>\n",
       "      <td>3</td>\n",
       "      <td>4638</td>\n",
       "    </tr>\n",
       "  </tbody>\n",
       "</table>\n",
       "</div>"
      ],
      "text/plain": [
       "   EmpID FirstName LastName                    Title  \\\n",
       "0   3427     Uriah  Bridges  Production Technician I   \n",
       "1   3428     Paula    Small  Production Technician I   \n",
       "2   3429    Edward     Buck       Area Sales Manager   \n",
       "3   3430   Michael  Riordan       Area Sales Manager   \n",
       "4   3431   Jasmine    Onque       Area Sales Manager   \n",
       "\n",
       "                           Email            Password EmployeeType PayZone  \\\n",
       "0    uriah.bridges@bilearner.com    uriahbridges3427     Contract  Zone C   \n",
       "1      paula.small@bilearner.com      paulasmall3428     Contract  Zone A   \n",
       "2      edward.buck@bilearner.com      edwardbuck3429    Full-Time  Zone B   \n",
       "3  michael.riordan@bilearner.com  michaelriordan3430     Contract  Zone A   \n",
       "4    jasmine.onque@bilearner.com    jasmineonque3431     Contract  Zone A   \n",
       "\n",
       "  DepartmentType         DOB JobFunctionDescription GenderCode  RaceDesc  \\\n",
       "0     Production  07-10-1969             Accounting     Female     White   \n",
       "1     Production  30-08-1965                  Labor       Male  Hispanic   \n",
       "2          Sales  06-10-1991              Assistant       Male  Hispanic   \n",
       "3          Sales  04-04-1998                  Clerk       Male     Other   \n",
       "4          Sales  29-08-1969                Laborer     Female     Other   \n",
       "\n",
       "  MaritalDesc Performance Score  Current Employee Rating  monthly_salary  \n",
       "0     Widowed       Fully Meets                        4            6877  \n",
       "1     Widowed       Fully Meets                        3            5383  \n",
       "2     Widowed       Fully Meets                        4            4722  \n",
       "3      Single       Fully Meets                        2            4779  \n",
       "4     Married       Fully Meets                        3            4638  "
      ]
     },
     "execution_count": 2,
     "metadata": {},
     "output_type": "execute_result"
    }
   ],
   "source": [
    "import pandas as pd\n",
    "\n",
    "data = pd.read_csv('C:/Users/USER/Downloads/Employees.csv')\n",
    "data.head()"
   ]
  },
  {
   "cell_type": "code",
   "execution_count": 3,
   "metadata": {},
   "outputs": [
    {
     "name": "stdout",
     "output_type": "stream",
     "text": [
      "<class 'pandas.core.frame.DataFrame'>\n",
      "RangeIndex: 3002 entries, 0 to 3001\n",
      "Data columns (total 17 columns):\n",
      " #   Column                   Non-Null Count  Dtype \n",
      "---  ------                   --------------  ----- \n",
      " 0   EmpID                    3002 non-null   int64 \n",
      " 1   FirstName                3002 non-null   object\n",
      " 2   LastName                 3002 non-null   object\n",
      " 3   Title                    3002 non-null   object\n",
      " 4   Email                    3002 non-null   object\n",
      " 5   Password                 3002 non-null   object\n",
      " 6   EmployeeType             3002 non-null   object\n",
      " 7   PayZone                  3002 non-null   object\n",
      " 8   DepartmentType           3002 non-null   object\n",
      " 9   DOB                      3002 non-null   object\n",
      " 10  JobFunctionDescription   3002 non-null   object\n",
      " 11  GenderCode               3002 non-null   object\n",
      " 12  RaceDesc                 3002 non-null   object\n",
      " 13  MaritalDesc              3002 non-null   object\n",
      " 14  Performance Score        3002 non-null   object\n",
      " 15  Current Employee Rating  3002 non-null   int64 \n",
      " 16  monthly_salary           3002 non-null   int64 \n",
      "dtypes: int64(3), object(14)\n",
      "memory usage: 398.8+ KB\n"
     ]
    }
   ],
   "source": [
    "data.info()"
   ]
  },
  {
   "cell_type": "code",
   "execution_count": 23,
   "metadata": {},
   "outputs": [
    {
     "data": {
      "text/plain": [
       "'01-01-1943'"
      ]
     },
     "execution_count": 23,
     "metadata": {},
     "output_type": "execute_result"
    }
   ],
   "source": [
    "data['DOB'].unique().min()"
   ]
  },
  {
   "cell_type": "code",
   "execution_count": 24,
   "metadata": {},
   "outputs": [
    {
     "data": {
      "text/plain": [
       "'31-12-1995'"
      ]
     },
     "execution_count": 24,
     "metadata": {},
     "output_type": "execute_result"
    }
   ],
   "source": [
    "data['DOB'].unique().max()"
   ]
  },
  {
   "cell_type": "code",
   "execution_count": 4,
   "metadata": {},
   "outputs": [
    {
     "data": {
      "text/plain": [
       "array(['Production Technician I', 'Area Sales Manager',\n",
       "       'Production Technician II', 'IT Support', 'Network Engineer',\n",
       "       'Sr. Network Engineer', 'Principal Data Architect',\n",
       "       'Enterprise Architect', 'Sr. DBA', 'Database Administrator',\n",
       "       'Data Analyst', 'Data Architect', 'CIO', 'BI Director',\n",
       "       'Sr. Accountant', 'Software Engineering Manager',\n",
       "       'Software Engineer', 'Shared Services Manager',\n",
       "       'Senior BI Developer', 'Production Manager', 'President & CEO',\n",
       "       'Administrative Assistant', 'Accountant I', 'BI Developer',\n",
       "       'Sales Manager', 'IT Manager - Support', 'IT Manager - Infra',\n",
       "       'IT Manager - DB', 'Director of Sales', 'Director of Operations',\n",
       "       'IT Director'], dtype=object)"
      ]
     },
     "execution_count": 4,
     "metadata": {},
     "output_type": "execute_result"
    }
   ],
   "source": [
    "data['Title'].unique()"
   ]
  },
  {
   "cell_type": "code",
   "execution_count": 6,
   "metadata": {},
   "outputs": [
    {
     "data": {
      "text/plain": [
       "array(['Contract', 'Full-Time', 'Part-Time'], dtype=object)"
      ]
     },
     "execution_count": 6,
     "metadata": {},
     "output_type": "execute_result"
    }
   ],
   "source": [
    "data['EmployeeType'].unique()"
   ]
  },
  {
   "cell_type": "code",
   "execution_count": 7,
   "metadata": {},
   "outputs": [
    {
     "data": {
      "text/plain": [
       "array(['Zone C', 'Zone A', 'Zone B'], dtype=object)"
      ]
     },
     "execution_count": 7,
     "metadata": {},
     "output_type": "execute_result"
    }
   ],
   "source": [
    "data['PayZone'].unique()"
   ]
  },
  {
   "cell_type": "code",
   "execution_count": 8,
   "metadata": {},
   "outputs": [
    {
     "data": {
      "text/plain": [
       "array(['Production', 'Sales', 'IT/IS', 'Executive Office',\n",
       "       'Software Engineering', 'Admin Offices'], dtype=object)"
      ]
     },
     "execution_count": 8,
     "metadata": {},
     "output_type": "execute_result"
    }
   ],
   "source": [
    "data['DepartmentType'].unique()"
   ]
  },
  {
   "cell_type": "code",
   "execution_count": 15,
   "metadata": {},
   "outputs": [
    {
     "data": {
      "text/plain": [
       "array(['Accounting', 'Labor', 'Assistant', 'Clerk', 'Laborer', 'Driver',\n",
       "       'Technician', 'Engineer', 'Executive Assistant', 'Splicer',\n",
       "       'Controller', 'Lineman', 'Coordinator', 'Director', 'Supervisor',\n",
       "       'Driller', 'Specialist', 'Operator', 'Foreman', 'Manager',\n",
       "       'Tower Hand', 'Mechanic', 'Flagger', 'Groundman',\n",
       "       'Model Assistant', 'Administrator', 'Project Manager',\n",
       "       'Electrician', 'Project Controls', 'Top Hand', 'Administrative',\n",
       "       'Locator', 'Billing', 'Cpo', 'Drafter', 'Vp',\n",
       "       'Construction Manager', 'Welder', 'Field Project Manager',\n",
       "       'Apprentice', 'Runner', 'Inspector', 'Field Technician',\n",
       "       'Associate', 'Administration', 'Intern', 'Planner', 'Accountant',\n",
       "       'General Manager', 'Clerical', 'Principal', 'Tester', 'Purchasing',\n",
       "       'Helper', 'Safety', 'Crew Leader', 'Program Manager', 'Shop',\n",
       "       'Project Coordinator', 'Estimator', 'Recruiting', 'Support', 'Ceo',\n",
       "       'Safety Manager', 'Warehouse Technician', 'Analyst', 'Generalist',\n",
       "       'Business Development', 'Cio', 'Executive', 'Cfo', 'Contracts',\n",
       "       'Chief Operating Officer', 'Helpdesk', 'Evp', 'Civil Hand',\n",
       "       'Services', 'Recruiter', 'Traffic', 'Attendant', 'Svp',\n",
       "       'Warehouse', 'Warehouse Manager'], dtype=object)"
      ]
     },
     "execution_count": 15,
     "metadata": {},
     "output_type": "execute_result"
    }
   ],
   "source": [
    "data['JobFunctionDescription'].unique()"
   ]
  },
  {
   "cell_type": "code",
   "execution_count": 10,
   "metadata": {},
   "outputs": [
    {
     "data": {
      "text/plain": [
       "array(['Female', 'Male'], dtype=object)"
      ]
     },
     "execution_count": 10,
     "metadata": {},
     "output_type": "execute_result"
    }
   ],
   "source": [
    "data['GenderCode'].unique()"
   ]
  },
  {
   "cell_type": "code",
   "execution_count": 11,
   "metadata": {},
   "outputs": [
    {
     "data": {
      "text/plain": [
       "array(['White', 'Hispanic', 'Other', 'Black', 'Asian'], dtype=object)"
      ]
     },
     "execution_count": 11,
     "metadata": {},
     "output_type": "execute_result"
    }
   ],
   "source": [
    "data['RaceDesc'].unique()"
   ]
  },
  {
   "cell_type": "code",
   "execution_count": 16,
   "metadata": {},
   "outputs": [
    {
     "data": {
      "text/plain": [
       "array(['Widowed', 'Single', 'Married', 'Divorced'], dtype=object)"
      ]
     },
     "execution_count": 16,
     "metadata": {},
     "output_type": "execute_result"
    }
   ],
   "source": [
    "data['MaritalDesc'].unique()"
   ]
  }
 ],
 "metadata": {
  "kernelspec": {
   "display_name": ".venv",
   "language": "python",
   "name": "python3"
  },
  "language_info": {
   "codemirror_mode": {
    "name": "ipython",
    "version": 3
   },
   "file_extension": ".py",
   "mimetype": "text/x-python",
   "name": "python",
   "nbconvert_exporter": "python",
   "pygments_lexer": "ipython3",
   "version": "3.12.2"
  }
 },
 "nbformat": 4,
 "nbformat_minor": 2
}
